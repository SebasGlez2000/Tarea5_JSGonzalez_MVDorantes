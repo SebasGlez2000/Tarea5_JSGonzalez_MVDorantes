{
 "cells": [
  {
   "cell_type": "markdown",
   "metadata": {},
   "source": [
    "<img style=\"float: left; margin: 30px 15px 15px 15px;\" src=\"https://pngimage.net/wp-content/uploads/2018/06/logo-iteso-png-5.png\" width=\"300\" height=\"500\" /> \n",
    "    \n",
    "    \n",
    "### <font color='navy'> Simulación de procesos financieros. \n",
    "\n",
    "**Nombres:** Jesús Sebastián González Ortiz y Mateo Verea Dorantes.\n",
    "\n",
    "**Fecha:** 12 de octubre del 2021.\n",
    "\n",
    "**Expediente** : 721621 y 709396.\n",
    "**Profesor:** Oscar David Jaramillo Zuluaga.\n",
    "    \n",
    "**Link Github**: https://github.com/SebasGlez2000/Tarea6_JSGonzalez_MVDorantes\n",
    "\n",
    "# Tarea 5: Clase 9"
   ]
  },
  {
   "cell_type": "code",
   "execution_count": 1,
   "metadata": {},
   "outputs": [],
   "source": [
    "from scipy import optimize\n",
    "import numpy as np\n",
    "from scipy.stats import beta\n",
    "import matplotlib.pyplot as plt"
   ]
  },
  {
   "cell_type": "markdown",
   "metadata": {},
   "source": [
    "## Enunciado de tarea (Transcibirlo)\n",
    "    \n",
    "> Para las siguiente dos funciones, genere muestres aleatorias que distribuyan según la función dada usando el método de la transformada inversa y grafique el histograma de 1000 muestras generadas con el método de la transformada inversa y compárela con el función $f(x)$ **(recuerde que $f(x)$ es la distribución de probabilidad y $F(x)$ es la distribución de probabilidad acumulada)** [ver este enlace para más información](https://es.wikipedia.org/wiki/Funci%C3%B3n_de_distribuci%C3%B3n). Este procedimiento se realiza con el fín de validar que el procedimiento y los resultados son correctos."
   ]
  },
  {
   "cell_type": "markdown",
   "metadata": {},
   "source": [
    "### Ejercicio 1:"
   ]
  },
  {
   "cell_type": "markdown",
   "metadata": {},
   "source": [
    "> 1. Generación variable aleatoria continua\n",
    ">El tiempo en el cual un movimiento browniano se mantiene sobre su punto máximo en el intervalo [0,1] tiene una distribución\n",
    ">$$F(x)=\\frac{2}{\\pi}\\sin^{-1}(\\sqrt x),\\quad 0\\leq x\\leq 1$$ </font>"
   ]
  },
  {
   "cell_type": "code",
   "execution_count": 2,
   "metadata": {},
   "outputs": [
    {
     "name": "stderr",
     "output_type": "stream",
     "text": [
      "<ipython-input-2-a1ec57c071aa>:4: RuntimeWarning: divide by zero encountered in true_divide\n",
      "  func = lambda x: 1/(np.pi * np.sqrt(x) * np.sqrt(1-x))\n"
     ]
    },
    {
     "data": {
      "image/png": "[encoded data removed]",
      "text/plain": [
       "<Figure size 432x288 with 1 Axes>"
      ]
     },
     "metadata": {
      "needs_background": "light"
     },
     "output_type": "display_data"
    }
   ],
   "source": [
    "# Código de solución estudiante 1\n",
    "\n",
    "sim = 1000\n",
    "func = lambda x: 1/(np.pi * np.sqrt(x) * np.sqrt(1-x))\n",
    "func_inv = lambda x: np.sin((x * np.pi)/2) ** 2\n",
    "\n",
    "def funcion(func, func_inv, sim):\n",
    "    p1 = np.arange(0, 1, .01)\n",
    "    p2 = np.random.uniform(0, 1, sim)\n",
    "    funcion = func(p1)\n",
    "    inversa = func_inv(p2)\n",
    "    \n",
    "    plt.plot(p1,funcion,'r--')\n",
    "    plt.hist(inversa, bins=40, density=True)\n",
    "    plt.show()\n",
    "    return\n",
    "\n",
    "funcion(func, func_inv, sim)\n"
   ]
  },
  {
   "cell_type": "markdown",
   "metadata": {},
   "source": [
    "Código de solución estudiante 2"
   ]
  },
  {
   "cell_type": "code",
   "execution_count": 3,
   "metadata": {},
   "outputs": [],
   "source": [
    "# Código de solución estudiante 2\n",
    "#definimos la derivada y su inversa\n",
    "N = 10000\n",
    "fx = lambda x: 1/(np.pi*np.sqrt(1-x)*np.sqrt(x))\n",
    "inversa = lambda y: np.sin(y*np.pi/2)**2 "
   ]
  },
  {
   "cell_type": "code",
   "execution_count": 4,
   "metadata": {},
   "outputs": [],
   "source": [
    "def ej1(fx,inversa,N): #Definimos la función\n",
    "    u = np.random.uniform(0,1,N)\n",
    "    x = np.arange(0,1,.01)\n",
    "    funcion = inversa(u)\n",
    "    fx = fx(x)\n",
    "    plt.plot(x,fx,'r--')\n",
    "    plt.hist(funcion, bins=40, density=True)\n",
    "    plt.show()"
   ]
  },
  {
   "cell_type": "code",
   "execution_count": 5,
   "metadata": {
    "scrolled": true
   },
   "outputs": [
    {
     "name": "stderr",
     "output_type": "stream",
     "text": [
      "<ipython-input-3-9438400b30eb>:4: RuntimeWarning: divide by zero encountered in true_divide\n",
      "  fx = lambda x: 1/(np.pi*np.sqrt(1-x)*np.sqrt(x))\n"
     ]
    },
    {
     "data": {
      "image/png": "[encoded data removed]",
      "text/plain": [
       "<Figure size 432x288 with 1 Axes>"
      ]
     },
     "metadata": {
      "needs_background": "light"
     },
     "output_type": "display_data"
    }
   ],
   "source": [
    "ej1(fx,inversa,N)"
   ]
  },
  {
   "cell_type": "markdown",
   "metadata": {},
   "source": [
    "Primero se programan las funciones que nos van a ayudar que son la función derivada y la inversa de la misma fórmula de distribución que nos dieron, después definimos una función que nos ayuda a generar y graficar los puntos dentro de un histograma entre los intervalos 0 y 1 para la visualización de los datos."
   ]
  },
  {
   "cell_type": "markdown",
   "metadata": {},
   "source": [
    "### Ejercicio 2:"
   ]
  },
  {
   "cell_type": "markdown",
   "metadata": {},
   "source": [
    "> 2. Generación variable aleatoria Discreta\n",
    "> La distribución binomial modela el número de éxitos de n ensayos independientes donde hay una probabilidad p de éxito en cada ensayo.\n",
    "> Generar una variable aletoria binomial con parámetros $n=10$ y $p=0.7$. Recordar que $$X\\sim binomial(n,p) \\longrightarrow p_i=P(X=i)=\\frac{n!}{i!(n-i)!}p^i(1-p)^{n-i},\\quad i=0,1,\\cdots,n$$\n",
    "> Por propiedades de la operación factorial la anterior $p_i$ se puede escribir como:\n",
    "> $$p_{i+1}=\\frac{n-i}{i+1}\\frac{p}{1-p} p_i $$\n",
    "\n",
    "> **Nota:** Por notación recuerde que para el caso continuo $f(x)$ es la distribución de probabilidad (PDF), mientras $F(x)$ corresponde a la distribución de probabilidad acumulada (CDF). Para el caso discreto, $P(X=i)$ corresponde a su distribución de probabilidad (PMF) y $ F_{X}(x)=\\operatorname {P} (X\\leq x)=\\sum _{x_{i}\\leq x}\\operatorname {P} (X=x_{i})=\\sum _{x_{i}\\leq x}p(x_{i})$, corresponde a su distribución de probabilidad acumulada (CDF).\n"
   ]
  },
  {
   "cell_type": "code",
   "execution_count": 6,
   "metadata": {},
   "outputs": [
    {
     "data": {
      "image/png": "[encoded data removed]",
      "text/plain": [
       "<Figure size 576x288 with 1 Axes>"
      ]
     },
     "metadata": {
      "needs_background": "light"
     },
     "output_type": "display_data"
    }
   ],
   "source": [
    "# Estudiante 1\n",
    "\n",
    "sim = 1000\n",
    "n = 10\n",
    "p = 0.7\n",
    "\n",
    "def distdisc(x,probacum):\n",
    "    v = np.array(list(map(lambda h:sum(1 for i in probacum if i<x[h]),range(N))))\n",
    "    return v\n",
    "\n",
    "def hist(dist):\n",
    "    y,x = np.histogram(dist,bins = len(set(dist)),density = True) \n",
    "    plt.figure(figsize=[8,4])\n",
    "    plt.bar(x[1:],y,label='funcion')\n",
    "    plt.legend()\n",
    "    plt.show()\n",
    "    \n",
    "def acumulado(n,p):\n",
    "    R = np.zeros(n)\n",
    "    R[0] = (1-p)**n\n",
    "    def r(i):\n",
    "        nonlocal R\n",
    "        c  = p/(1-p)\n",
    "        R[i+1]=(c*(n-i)/(i+1))*R[i]\n",
    "    [r(i) for i in range(n-1)]\n",
    "    return np.cumsum(R)\n",
    "\n",
    "n = 10\n",
    "p = 0.7\n",
    "N = 10000\n",
    "\n",
    "acum = acumulado(n,p)\n",
    "u = np.random.rand(N)\n",
    "\n",
    "d_binomial = distdisc(u,acum)\n",
    "hist(d_binomial)"
   ]
  },
  {
   "cell_type": "code",
   "execution_count": 7,
   "metadata": {},
   "outputs": [],
   "source": [
    "# Estudiante 2\n",
    "def distdisc(x,probacum):\n",
    "    v = np.array(list(map(lambda h:sum(1 for i in probacum if i<x[h]),range(N))))\n",
    "    return v"
   ]
  },
  {
   "cell_type": "code",
   "execution_count": 8,
   "metadata": {},
   "outputs": [],
   "source": [
    "def hist(dist):\n",
    "    y,x = np.histogram(dist,bins = len(set(dist)),density = True) \n",
    "    plt.figure(figsize=[8,4])\n",
    "    plt.bar(x[1:],y,label='funcion')\n",
    "    plt.legend()\n",
    "    plt.show()\n",
    "    "
   ]
  },
  {
   "cell_type": "code",
   "execution_count": 9,
   "metadata": {},
   "outputs": [],
   "source": [
    "def acumulado(n,p):\n",
    "    R = np.zeros(n)\n",
    "    R[0] = (1-p)**n\n",
    "    def r(i):\n",
    "        nonlocal R\n",
    "        c  = p/(1-p)\n",
    "        R[i+1]=(c*(n-i)/(i+1))*R[i]\n",
    "    [r(i) for i in range(n-1)]\n",
    "    return np.cumsum(R)"
   ]
  },
  {
   "cell_type": "code",
   "execution_count": 10,
   "metadata": {},
   "outputs": [
    {
     "data": {
      "image/png": "[encoded data removed]",
      "text/plain": [
       "<Figure size 576x288 with 1 Axes>"
      ]
     },
     "metadata": {
      "needs_background": "light"
     },
     "output_type": "display_data"
    }
   ],
   "source": [
    "n = 10\n",
    "p = 0.7\n",
    "N = 10000\n",
    "\n",
    "acum = acumulado(n,p)\n",
    "u = np.random.rand(N)\n",
    "\n",
    "d_binomial = distdisc(u,acum)\n",
    "hist(d_binomial)"
   ]
  }
 ],
 "metadata": {
  "kernelspec": {
   "display_name": "Python 3",
   "language": "python",
   "name": "python3"
  },
  "language_info": {
   "codemirror_mode": {
    "name": "ipython",
    "version": 3
   },
   "file_extension": ".py",
   "mimetype": "text/x-python",
   "name": "python",
   "nbconvert_exporter": "python",
   "pygments_lexer": "ipython3",
   "version": "3.8.8"
  }
 },
 "nbformat": 4,
 "nbformat_minor": 2
}
